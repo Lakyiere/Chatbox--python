{
 "cells": [
  {
   "cell_type": "markdown",
   "metadata": {},
   "source": [
    "# CHATBOX"
   ]
  },
  {
   "cell_type": "code",
   "execution_count": 1,
   "metadata": {},
   "outputs": [
    {
     "name": "stdout",
     "output_type": "stream",
     "text": [
      "Alice\n",
      "What should i call you my friend: Alice\n"
     ]
    }
   ],
   "source": [
    "name=str(input())\n",
    "print(\"What should i call you my friend:\", name)"
   ]
  },
  {
   "cell_type": "markdown",
   "metadata": {},
   "source": [
    "USER TEMPLATES"
   ]
  },
  {
   "cell_type": "code",
   "execution_count": 2,
   "metadata": {},
   "outputs": [],
   "source": [
    "bot_template = \"BOT : {0}\"\n",
    "user_template = name + \" : {0}\""
   ]
  },
  {
   "cell_type": "markdown",
   "metadata": {},
   "source": [
    "CHATBOX RESPONSES"
   ]
  },
  {
   "cell_type": "code",
   "execution_count": 3,
   "metadata": {},
   "outputs": [],
   "source": [
    "name = \"Alice the Programmer\" \n",
    "weather = \"Rainy\" \n",
    "mood = \"Happy\"\n",
    "\n",
    "responses = { \n",
    "\"what's your name?\": [ \n",
    "\"They call me {0}\".format(name), \n",
    "\"I usually go by {0}\".format(name), \n",
    "\"My name is the {0}\".format(name) ],\n",
    "    \n",
    "\"what's today's weather?\": [ \n",
    "\"The weather is {0}\".format(weather), \n",
    "\"It's {0} today\".format(weather), \n",
    "\"Let me check, it looks {0} today\".format(weather) ],\n",
    "    \n",
    "\"Are you a robot?\": [ \n",
    "\"What do you think?\", \n",
    "\"Maybe yes, maybe no!\", \n",
    "\"Yes, I am a robot with human feelings.\", ],\n",
    "    \n",
    "\"how are you?\": [ \n",
    "\"I am feeling {0}\".format(mood), \n",
    "\"{0}! How about you?\".format(mood), \n",
    "\"I am {0}! How about yourself?\".format(mood), ],\n",
    "\"\": [ \n",
    "\"Hey! Are you there?\", \n",
    "\"What do you mean by saying nothing?\", \n",
    "\"Sometimes saying nothing tells a lot :)\", ],\n",
    "\"default\": [\n",
    "\"this is a default message\"] }"
   ]
  },
  {
   "cell_type": "code",
   "execution_count": 4,
   "metadata": {},
   "outputs": [],
   "source": [
    "import random"
   ]
  },
  {
   "cell_type": "markdown",
   "metadata": {},
   "source": [
    "RESPONSE FUNCTION"
   ]
  },
  {
   "cell_type": "code",
   "execution_count": 5,
   "metadata": {},
   "outputs": [],
   "source": [
    "def respond(message):\n",
    "    if message in responses: \n",
    "        bot_message = random.choice(responses[message])\n",
    "    else: \n",
    "        bot_message = random.choice(responses[\"default\"])\n",
    "    return bot_message    \n",
    "\n"
   ]
  },
  {
   "cell_type": "markdown",
   "metadata": {},
   "source": [
    "RELATION FUNCTION"
   ]
  },
  {
   "cell_type": "code",
   "execution_count": 6,
   "metadata": {},
   "outputs": [],
   "source": [
    "def related(x_text): \n",
    "    if \"name\" in x_text: \n",
    "        y_text = \"what's your name?\"\n",
    "    elif \"weather\" in x_text: \n",
    "        y_text = \"what's today's weather?\"\n",
    "    elif \"robot\" in x_text: \n",
    "        y_text = \"are you a robot?\"\n",
    "    elif \"how are\" in x_text: \n",
    "        y_text = \"how are you?\"\n",
    "    else: \n",
    "        y_text = \"\"\n",
    "    return y_text"
   ]
  },
  {
   "cell_type": "markdown",
   "metadata": {},
   "source": [
    "SEND MESSAGE FUNCTION "
   ]
  },
  {
   "cell_type": "code",
   "execution_count": 7,
   "metadata": {},
   "outputs": [],
   "source": [
    "def send_message(message): \n",
    "    print(user_template.format(message)) \n",
    "    response = respond(message) \n",
    "    print(bot_template.format(response))"
   ]
  },
  {
   "cell_type": "markdown",
   "metadata": {},
   "source": [
    "TESTING THE CHATBOX"
   ]
  },
  {
   "cell_type": "code",
   "execution_count": null,
   "metadata": {},
   "outputs": [
    {
     "name": "stdout",
     "output_type": "stream",
     "text": [
      "what's your name?\n",
      "Alice : what's your name?\n",
      "BOT : My name is the Alice the Programmer\n",
      "How are you today?\n",
      "Alice : how are you?\n",
      "BOT : Happy! How about you?\n",
      "Why are you a robot?\n",
      "Alice : are you a robot?\n",
      "BOT : this is a default message\n",
      "Do you love Programming?\n",
      "Alice : \n",
      "BOT : Sometimes saying nothing tells a lot :)\n",
      "What is the whether today?\n",
      "Alice : \n",
      "BOT : What do you mean by saying nothing?\n",
      "What is the weather today?\n",
      "Alice : what's today's weather?\n",
      "BOT : It's Rainy today\n"
     ]
    }
   ],
   "source": [
    "while 1: \n",
    "    my_input = input() \n",
    "    my_input = my_input.lower() \n",
    "    related_text = related(my_input) \n",
    "    send_message(related_text)\n",
    "    if my_input == \"exit\" or my_input == \"stop\": \n",
    "        break"
   ]
  },
  {
   "cell_type": "code",
   "execution_count": null,
   "metadata": {},
   "outputs": [],
   "source": []
  },
  {
   "cell_type": "code",
   "execution_count": null,
   "metadata": {},
   "outputs": [],
   "source": []
  }
 ],
 "metadata": {
  "kernelspec": {
   "display_name": "Python 3",
   "language": "python",
   "name": "python3"
  },
  "language_info": {
   "codemirror_mode": {
    "name": "ipython",
    "version": 3
   },
   "file_extension": ".py",
   "mimetype": "text/x-python",
   "name": "python",
   "nbconvert_exporter": "python",
   "pygments_lexer": "ipython3",
   "version": "3.7.6"
  }
 },
 "nbformat": 4,
 "nbformat_minor": 4
}
